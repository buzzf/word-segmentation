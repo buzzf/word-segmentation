{
 "cells": [
  {
   "cell_type": "markdown",
   "metadata": {},
   "source": [
    "### 前向最大匹配法"
   ]
  },
  {
   "cell_type": "code",
   "execution_count": 26,
   "metadata": {},
   "outputs": [],
   "source": [
    "def FMM(user_dict, sentence):\n",
    "    \"\"\"\n",
    "    正向最大匹配（FMM）\n",
    "    :param user_dict: 词典\n",
    "    :param sentence: 句子\n",
    "    \"\"\"\n",
    "    # 词典中最长词长度\n",
    "    segment_words = []\n",
    "    max_len = max([len(item) for item in user_dict])\n",
    "    start = 0\n",
    "    while start != len(sentence):\n",
    "        index = start+max_len\n",
    "        if index>len(sentence):\n",
    "            index = len(sentence)\n",
    "        for i in range(max_len):\n",
    "            if (sentence[start:index] in user_dict) or (len(sentence[start:index])==1):\n",
    "                segment_words.append(sentence[start:index])\n",
    "                start = index\n",
    "                break\n",
    "            index += -1\n",
    "    return segment_words"
   ]
  },
  {
   "cell_type": "code",
   "execution_count": 27,
   "metadata": {},
   "outputs": [
    {
     "name": "stdout",
     "output_type": "stream",
     "text": [
      "['我', '出生', '在', '中国', '我', '是', '堂堂正正', '的', '中国人']\n"
     ]
    }
   ],
   "source": [
    "user_dict = ['我','我们', '在','中', '中国', '是', '出生', '中国人', '堂堂正正', '的']\n",
    "sentence = '我出生在中国我是堂堂正正的中国人'\n",
    "segs = FMM(user_dict, sentence)\n",
    "print(segs)"
   ]
  },
  {
   "cell_type": "code",
   "execution_count": 5,
   "metadata": {},
   "outputs": [],
   "source": [
    "def get_dicts(path):\n",
    "    word_dicts = []\n",
    "    with open(path, encoding='utf-8') as f:\n",
    "        for line in f:\n",
    "            lines = line.strip('\\n').split(' ')\n",
    "            word_dicts.append(lines[0])\n",
    "    return word_dicts"
   ]
  },
  {
   "cell_type": "code",
   "execution_count": 6,
   "metadata": {},
   "outputs": [
    {
     "name": "stdout",
     "output_type": "stream",
     "text": [
      "['我们', '在野', '生动', '物', '园', '玩']\n"
     ]
    }
   ],
   "source": [
    "user_dict = get_dicts('data/dict.txt.small')\n",
    "sentence = '我们在野生动物园玩'\n",
    "segs = FMM_func(user_dict, sentence)\n",
    "print(segs)"
   ]
  },
  {
   "cell_type": "markdown",
   "metadata": {},
   "source": [
    "### 逆向最大匹配算法"
   ]
  },
  {
   "cell_type": "code",
   "execution_count": 30,
   "metadata": {},
   "outputs": [],
   "source": [
    "def BMM(user_dict, sentence):\n",
    "    \"\"\"\n",
    "    反向最大匹配（BMM）\n",
    "    :param user_dict:词典\n",
    "    :param sentence:句子\n",
    "    \"\"\"\n",
    "    # 词典中最长词长度\n",
    "    max_len = max([len(item) for item in user_dict])\n",
    "    result = []\n",
    "    start = len(sentence)\n",
    "    while start != 0:\n",
    "        index = start - max_len\n",
    "        if index < 0:\n",
    "            index = 0\n",
    "        for i in range(max_len):\n",
    "            if (sentence[index:start] in user_dict) or (len(sentence[start:index])==1):\n",
    "                result.append(sentence[index:start])\n",
    "                start = index\n",
    "                break\n",
    "            index += 1\n",
    "    return result[::-1]"
   ]
  },
  {
   "cell_type": "code",
   "execution_count": 31,
   "metadata": {},
   "outputs": [
    {
     "name": "stdout",
     "output_type": "stream",
     "text": [
      "['我', '出生', '在', '中国', '我', '是', '堂堂正正', '的', '中', '国人']\n"
     ]
    }
   ],
   "source": [
    "user_dict = get_dicts('data/dict.txt.small')\n",
    "sentence = '我出生在中国我是堂堂正正的中国人'\n",
    "segs = BMM(user_dict, sentence)\n",
    "print(segs)"
   ]
  },
  {
   "cell_type": "code",
   "execution_count": 32,
   "metadata": {},
   "outputs": [
    {
     "name": "stdout",
     "output_type": "stream",
     "text": [
      "['我', '出生', '在', '中国', '我', '是', '堂堂正正', '的', '中国人']\n"
     ]
    }
   ],
   "source": [
    "user_dict = ['我','我们', '在','中', '中国', '是', '出生', '中国人', '堂堂正正', '的']\n",
    "sentence = '我出生在中国我是堂堂正正的中国人'\n",
    "segs = BMM(user_dict, sentence)\n",
    "print(segs)"
   ]
  },
  {
   "cell_type": "code",
   "execution_count": null,
   "metadata": {},
   "outputs": [],
   "source": []
  }
 ],
 "metadata": {
  "kernelspec": {
   "display_name": "Python 3",
   "language": "python",
   "name": "python3"
  },
  "language_info": {
   "codemirror_mode": {
    "name": "ipython",
    "version": 3
   },
   "file_extension": ".py",
   "mimetype": "text/x-python",
   "name": "python",
   "nbconvert_exporter": "python",
   "pygments_lexer": "ipython3",
   "version": "3.6.5"
  }
 },
 "nbformat": 4,
 "nbformat_minor": 2
}
