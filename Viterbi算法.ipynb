{
 "cells": [
  {
   "cell_type": "code",
   "execution_count": 1,
   "metadata": {},
   "outputs": [],
   "source": [
    "import numpy as np"
   ]
  },
  {
   "cell_type": "code",
   "execution_count": 2,
   "metadata": {},
   "outputs": [],
   "source": [
    "def viterbi_decode(nodes, trans):\n",
    "    \"\"\"\n",
    "    Viterbi算法求最优路径\n",
    "    其中 nodes.shape=[seq_len, num_labels],\n",
    "        trans.shape=[num_labels, num_labels].\n",
    "    \"\"\"\n",
    "    # 获得输入状态序列的长度，以及观察标签的个数\n",
    "    seq_len, num_labels = len(nodes), len(trans)\n",
    "    # 简单起见，先不考虑发射概率，直接用起始0时刻的分数\n",
    "    scores = nodes[0].reshape((-1, 1))\n",
    "\n",
    "    paths = []\n",
    "    # 递推求解上一时刻t-1到当前时刻t的最优\n",
    "    for t in range(1, seq_len):\n",
    "        # scores 表示起始0到t-1时刻的每个标签的最优分数\n",
    "        scores_repeat = np.repeat(scores, num_labels, axis=1)\n",
    "        # observe当前时刻t的每个标签的观测分数\n",
    "        observe = nodes[t].reshape((1, -1))\n",
    "        observe_repeat = np.repeat(observe, num_labels, axis=0)\n",
    "        # 从t-1时刻到t时刻最优分数的计算，这里需要考虑转移分数trans\n",
    "        M = scores_repeat + trans + observe_repeat\n",
    "        # 寻找到t时刻的最优路径\n",
    "        scores = np.max(M, axis=0).reshape((-1, 1))\n",
    "        idxs = np.argmax(M, axis=0)\n",
    "        # 路径保存\n",
    "        paths.append(idxs.tolist())\n",
    "\n",
    "    best_path = [0] * seq_len\n",
    "    best_path[-1] = np.argmax(scores)\n",
    "    # 最优路径回溯\n",
    "    for i in range(seq_len - 2, -1, -1):\n",
    "        idx = best_path[i + 1]\n",
    "        best_path[i] = paths[i][idx]\n",
    "\n",
    "    return best_path"
   ]
  },
  {
   "cell_type": "code",
   "execution_count": 3,
   "metadata": {},
   "outputs": [
    {
     "name": "stdout",
     "output_type": "stream",
     "text": [
      "trans\n",
      " [[0.1 0.4 0.5]\n",
      " [0.3 0.1 0.6]\n",
      " [0.7 0.1 0.2]]\n",
      "nodes\n",
      " [[0.8 0.1 0.1]\n",
      " [0.1 0.5 0.4]\n",
      " [0.2 0.6 0.2]]\n"
     ]
    }
   ],
   "source": [
    "trans = np.array([[0.1,0.4,0.5],[0.3,0.1,0.6],[0.7, 0.1,0.2]])\n",
    "nodes = np.array([[0.8,0.1,0.1],[0.1,0.5,0.4],[0.2,0.6,0.2]])\n",
    "print('trans\\n', trans)\n",
    "print('nodes\\n', nodes)"
   ]
  },
  {
   "cell_type": "code",
   "execution_count": 4,
   "metadata": {},
   "outputs": [
    {
     "data": {
      "text/plain": [
       "[0, 2, 0]"
      ]
     },
     "execution_count": 4,
     "metadata": {},
     "output_type": "execute_result"
    }
   ],
   "source": [
    "best_path = viterbi_decode(nodes, trans)\n",
    "best_path"
   ]
  },
  {
   "cell_type": "code",
   "execution_count": 5,
   "metadata": {},
   "outputs": [],
   "source": [
    "seq_len, num_labels = len(nodes), len(trans)\n",
    "scores = nodes[0].reshape((-1, 1))\n",
    "paths = []"
   ]
  },
  {
   "cell_type": "code",
   "execution_count": 6,
   "metadata": {},
   "outputs": [
    {
     "data": {
      "text/plain": [
       "array([[0.8],\n",
       "       [0.1],\n",
       "       [0.1]])"
      ]
     },
     "execution_count": 6,
     "metadata": {},
     "output_type": "execute_result"
    }
   ],
   "source": [
    "scores"
   ]
  },
  {
   "cell_type": "code",
   "execution_count": 7,
   "metadata": {},
   "outputs": [],
   "source": [
    "t = 2\n",
    "scores_repeat = np.repeat(scores, num_labels, axis=1)\n",
    "# observe当前时刻t的每个标签的观测分数\n",
    "observe = nodes[t].reshape((1, -1))\n",
    "observe_repeat = np.repeat(observe, num_labels, axis=0)\n",
    "# 从t-1时刻到t时刻最优分数的计算，这里需要考虑转移分数trans\n",
    "M = scores_repeat + trans + observe_repeat\n",
    "# 寻找到t时刻的最优路径\n",
    "scores = np.max(M, axis=0).reshape((-1, 1))\n",
    "idxs = np.argmax(M, axis=0)\n",
    "# 路径保存\n",
    "paths.append(idxs.tolist())"
   ]
  },
  {
   "cell_type": "code",
   "execution_count": 8,
   "metadata": {},
   "outputs": [
    {
     "data": {
      "text/plain": [
       "array([[0.8, 0.8, 0.8],\n",
       "       [0.1, 0.1, 0.1],\n",
       "       [0.1, 0.1, 0.1]])"
      ]
     },
     "execution_count": 8,
     "metadata": {},
     "output_type": "execute_result"
    }
   ],
   "source": [
    "scores_repeat"
   ]
  },
  {
   "cell_type": "code",
   "execution_count": 9,
   "metadata": {},
   "outputs": [
    {
     "data": {
      "text/plain": [
       "array([[0.2, 0.6, 0.2],\n",
       "       [0.2, 0.6, 0.2],\n",
       "       [0.2, 0.6, 0.2]])"
      ]
     },
     "execution_count": 9,
     "metadata": {},
     "output_type": "execute_result"
    }
   ],
   "source": [
    "observe_repeat"
   ]
  },
  {
   "cell_type": "code",
   "execution_count": 10,
   "metadata": {},
   "outputs": [
    {
     "data": {
      "text/plain": [
       "array([[0.1, 0.4, 0.5],\n",
       "       [0.3, 0.1, 0.6],\n",
       "       [0.7, 0.1, 0.2]])"
      ]
     },
     "execution_count": 10,
     "metadata": {},
     "output_type": "execute_result"
    }
   ],
   "source": [
    "trans"
   ]
  },
  {
   "cell_type": "code",
   "execution_count": 11,
   "metadata": {},
   "outputs": [
    {
     "data": {
      "text/plain": [
       "array([[1.1, 1.8, 1.5],\n",
       "       [0.6, 0.8, 0.9],\n",
       "       [1. , 0.8, 0.5]])"
      ]
     },
     "execution_count": 11,
     "metadata": {},
     "output_type": "execute_result"
    }
   ],
   "source": [
    "M"
   ]
  },
  {
   "cell_type": "code",
   "execution_count": 12,
   "metadata": {},
   "outputs": [
    {
     "data": {
      "text/plain": [
       "array([[1.1],\n",
       "       [1.8],\n",
       "       [1.5]])"
      ]
     },
     "execution_count": 12,
     "metadata": {},
     "output_type": "execute_result"
    }
   ],
   "source": [
    "scores"
   ]
  },
  {
   "cell_type": "code",
   "execution_count": 13,
   "metadata": {},
   "outputs": [
    {
     "data": {
      "text/plain": [
       "array([0, 0, 0], dtype=int64)"
      ]
     },
     "execution_count": 13,
     "metadata": {},
     "output_type": "execute_result"
    }
   ],
   "source": [
    "idxs"
   ]
  },
  {
   "cell_type": "code",
   "execution_count": 14,
   "metadata": {},
   "outputs": [
    {
     "data": {
      "text/plain": [
       "[[0, 0, 0]]"
      ]
     },
     "execution_count": 14,
     "metadata": {},
     "output_type": "execute_result"
    }
   ],
   "source": [
    "paths"
   ]
  },
  {
   "cell_type": "code",
   "execution_count": 15,
   "metadata": {},
   "outputs": [
    {
     "data": {
      "text/plain": [
       "array([1.1, 1.8, 1.5])"
      ]
     },
     "execution_count": 15,
     "metadata": {},
     "output_type": "execute_result"
    }
   ],
   "source": [
    "np.max(M, axis=0)"
   ]
  },
  {
   "cell_type": "code",
   "execution_count": 16,
   "metadata": {},
   "outputs": [],
   "source": [
    "best_path = [0] * seq_len\n",
    "best_path[-1] = np.argmax(scores)"
   ]
  },
  {
   "cell_type": "code",
   "execution_count": 17,
   "metadata": {},
   "outputs": [
    {
     "data": {
      "text/plain": [
       "[0, 0, 1]"
      ]
     },
     "execution_count": 17,
     "metadata": {},
     "output_type": "execute_result"
    }
   ],
   "source": [
    "best_path"
   ]
  },
  {
   "cell_type": "code",
   "execution_count": 18,
   "metadata": {},
   "outputs": [
    {
     "data": {
      "text/plain": [
       "551.7241379310345"
      ]
     },
     "execution_count": 18,
     "metadata": {},
     "output_type": "execute_result"
    }
   ],
   "source": [
    "12000/21.75"
   ]
  },
  {
   "cell_type": "code",
   "execution_count": 25,
   "metadata": {},
   "outputs": [],
   "source": [
    "def viterbi_decode_v2(nodes, trans):\n",
    "    \"\"\"\n",
    "    Viterbi算法求最优路径v2\n",
    "    其中 nodes.shape=[seq_len, num_labels],\n",
    "        trans.shape=[num_labels, num_labels].\n",
    "    \"\"\"\n",
    "    seq_len, num_labels = len(nodes), len(trans)\n",
    "    scores = nodes[0].reshape((-1, 1))\n",
    "    paths = []\n",
    "    # # 递推求解上一时刻t-1到当前时刻t的最优\n",
    "    for t in range(1, seq_len):\n",
    "        observe = nodes[t].reshape((1, -1))\n",
    "        M = scores + trans + observe\n",
    "        scores = np.max(M, axis=0).reshape((-1, 1))\n",
    "        idxs = np.argmax(M, axis=0)\n",
    "        paths.append(idxs.tolist())\n",
    "\n",
    "    best_path = [0] * seq_len\n",
    "    best_path[-1] = np.argmax(scores)\n",
    "    print('paths: ', paths)\n",
    "    print('best_path: ', best_path)\n",
    "    # 最优路径回溯\n",
    "    for i in range(seq_len-2, -1, -1):\n",
    "        idx = best_path[i+1]\n",
    "        best_path[i] = paths[i][idx]\n",
    "        print(i)\n",
    "        print(paths[i][idx])\n",
    "    return best_path"
   ]
  },
  {
   "cell_type": "code",
   "execution_count": 26,
   "metadata": {},
   "outputs": [
    {
     "name": "stdout",
     "output_type": "stream",
     "text": [
      "paths:  [[0, 0, 0], [2, 1, 1]]\n",
      "best_path:  [0, 0, 0]\n",
      "1\n",
      "2\n",
      "0\n",
      "0\n"
     ]
    },
    {
     "data": {
      "text/plain": [
       "[0, 2, 0]"
      ]
     },
     "execution_count": 26,
     "metadata": {},
     "output_type": "execute_result"
    }
   ],
   "source": [
    "best_path = viterbi_decode_v2(nodes, trans)\n",
    "best_path"
   ]
  },
  {
   "cell_type": "markdown",
   "metadata": {},
   "source": [
    "### 还有一种写法，最后不用回溯，每次把最优路径的索引都保存起来，并添加一个正常的路径，最后直接按索引找出最优路径"
   ]
  },
  {
   "cell_type": "code",
   "execution_count": 43,
   "metadata": {},
   "outputs": [],
   "source": [
    "def viterbi_decode_v3(nodes, trans):\n",
    "    \"\"\"\n",
    "    Viterbi算法求最优路径\n",
    "    其中 nodes.shape=[seq_len, num_labels],\n",
    "        trans.shape=[num_labels, num_labels].\n",
    "    \"\"\"\n",
    "    seq_len, num_labels = len(nodes), len(trans)\n",
    "    labels = np.arange(num_labels).reshape((1, -1))\n",
    "    print('labels: \\n', labels)\n",
    "    scores = nodes[0].reshape((-1, 1))\n",
    "    paths = labels\n",
    "    for t in range(1, seq_len):\n",
    "        observe = nodes[t].reshape((1, -1))\n",
    "        M = scores + trans + observe\n",
    "        scores = np.max(M, axis=0).reshape((-1, 1))\n",
    "        idxs = np.argmax(M, axis=0)\n",
    "        print('{} paths:'.format(t))\n",
    "        print(paths)\n",
    "        print('idxs:\\n', idxs)\n",
    "        paths = np.concatenate([paths[:, idxs], labels], 0)\n",
    "    print('paths: \\n', paths)\n",
    "    best_path = paths[:, scores.argmax()]\n",
    "    return best_path"
   ]
  },
  {
   "cell_type": "code",
   "execution_count": 44,
   "metadata": {},
   "outputs": [
    {
     "name": "stdout",
     "output_type": "stream",
     "text": [
      "labels: \n",
      " [[0 1 2]]\n",
      "1 paths:\n",
      "[[0 1 2]]\n",
      "idxs:\n",
      " [0 0 0]\n",
      "2 paths:\n",
      "[[0 0 0]\n",
      " [0 1 2]]\n",
      "idxs:\n",
      " [2 1 1]\n",
      "paths: \n",
      " [[0 0 0]\n",
      " [2 1 1]\n",
      " [0 1 2]]\n"
     ]
    },
    {
     "data": {
      "text/plain": [
       "array([0, 2, 0])"
      ]
     },
     "execution_count": 44,
     "metadata": {},
     "output_type": "execute_result"
    }
   ],
   "source": [
    "best_path = viterbi_decode_v3(nodes, trans)\n",
    "best_path"
   ]
  },
  {
   "cell_type": "code",
   "execution_count": 49,
   "metadata": {},
   "outputs": [
    {
     "data": {
      "text/plain": [
       "array([[0, 0],\n",
       "       [0, 2]])"
      ]
     },
     "execution_count": 49,
     "metadata": {},
     "output_type": "execute_result"
    }
   ],
   "source": [
    "path = np.array([[0,0,0],[0,1,2]])\n",
    "idx = [0,2]\n",
    "path[:,idx]"
   ]
  },
  {
   "cell_type": "code",
   "execution_count": null,
   "metadata": {},
   "outputs": [],
   "source": []
  }
 ],
 "metadata": {
  "kernelspec": {
   "display_name": "Python 3",
   "language": "python",
   "name": "python3"
  },
  "language_info": {
   "codemirror_mode": {
    "name": "ipython",
    "version": 3
   },
   "file_extension": ".py",
   "mimetype": "text/x-python",
   "name": "python",
   "nbconvert_exporter": "python",
   "pygments_lexer": "ipython3",
   "version": "3.6.5"
  }
 },
 "nbformat": 4,
 "nbformat_minor": 2
}
